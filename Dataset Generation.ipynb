{
 "cells": [
  {
   "cell_type": "code",
   "execution_count": 1,
   "id": "0ae99ca8",
   "metadata": {},
   "outputs": [],
   "source": [
    "import random\n",
    "import pandas as pd\n",
    "[w1,w2,w3,w4,w5,w6] = [-0.541,0.808,2.197,1.496,0.853,0.076]\n",
    "vals = []\n",
    "for i in range(10000):\n",
    "    x1 = random.randint(1, 3)\n",
    "    x2 = random.randint(1, 4)\n",
    "    x3 = random.randint(0,1)\n",
    "    x4 = random.randint(1,10)\n",
    "    x5 = random.randint(1, 100)\n",
    "    x6 = random.randint(1, 10)\n",
    "    eq = w1*x1+w2*x2+w3*x3+w4*x4+w5*x5+w6*x6\n",
    "    cl=0\n",
    "    if x4>6 and x5>60:\n",
    "        k='BEST'\n",
    "    else:\n",
    "        k='NOT'\n",
    "    if eq>70:\n",
    "        cl=1\n",
    "    else:\n",
    "        cl=0\n",
    "    vals.append([x1,x2,x3,x4,x5,x6,eq,cl,k])\n",
    "df = pd.DataFrame(vals,columns=['MODE_OF_TRANSPORTATION','WEATHER','GEOPOLITICAL_RISKS','ROUTE_OPTIMIZATION','NO_OF_DELIVERED','CUSTUMER_RATING','EFFICIENCY','EFFICIENT','BEST OR NOT'])\n",
    "df.to_csv('efficiency.csv',index=False)\n"
   ]
  },
  {
   "cell_type": "code",
   "execution_count": null,
   "id": "b6921d77",
   "metadata": {},
   "outputs": [],
   "source": []
  }
 ],
 "metadata": {
  "kernelspec": {
   "display_name": "Python 3 (ipykernel)",
   "language": "python",
   "name": "python3"
  },
  "language_info": {
   "codemirror_mode": {
    "name": "ipython",
    "version": 3
   },
   "file_extension": ".py",
   "mimetype": "text/x-python",
   "name": "python",
   "nbconvert_exporter": "python",
   "pygments_lexer": "ipython3",
   "version": "3.9.12"
  }
 },
 "nbformat": 4,
 "nbformat_minor": 5
}
